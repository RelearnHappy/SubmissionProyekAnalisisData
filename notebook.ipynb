{
  "cells": [
    {
      "cell_type": "markdown",
      "metadata": {
        "id": "H9wADwK78DCz"
      },
      "source": [
        "# **Proyek Analisis Data: Bike-sharing-dataset**\n",
        " - **Nama:**\n",
        " - **Email:**\n",
        " - **ID Dicoding:**"
      ]
    },
    {
      "cell_type": "markdown",
      "metadata": {
        "id": "eE0raob58DC0"
      },
      "source": [
        "## **Menentukan Pertanyaan Bisnis**"
      ]
    },
    {
      "cell_type": "markdown",
      "metadata": {
        "id": "GmQeQ5YF8DC0"
      },
      "source": [
        "- Pertanyaan 1 : Apakah ada perbedaan jumlah penyewaan sepeda antara hari kerja (workingday) dan akhir pekan/libur?\n",
        "- Pertanyaan 2 : Bagaimana faktor cuaca (weathersit) memengaruhi jumlah penyewaan sepeda harian?\n",
        "- Pertanyaan 3 : Berapa banyak Total Penyewaan Setiap Disetiap Bulannya?\n"
      ]
    },
    {
      "cell_type": "markdown",
      "metadata": {
        "id": "H-z4QGlO8DC1"
      },
      "source": [
        "## **Import Semua Packages/Library yang Digunakan**"
      ]
    },
    {
      "cell_type": "code",
      "execution_count": null,
      "metadata": {
        "id": "FVYwaObI8DC1"
      },
      "outputs": [],
      "source": [
        "import numpy as np\n",
        "import pandas as pd\n",
        "from scipy import stats\n",
        "import seaborn as sns\n",
        "import matplotlib.pyplot as plt\n",
        "import matplotlib.image as mpimg\n",
        "import urllib\n",
        "from sklearn.preprocessing import StandardScaler\n",
        "from sklearn.cluster import KMeans"
      ]
    },
    {
      "cell_type": "markdown",
      "metadata": {
        "id": "h_Sh51Xy8DC1"
      },
      "source": [
        "## **1. Data Wrangling**"
      ]
    },
    {
      "cell_type": "markdown",
      "metadata": {
        "id": "sXU2GBYu8DC1"
      },
      "source": [
        "### 1.1 Gathering Data"
      ]
    },
    {
      "cell_type": "code",
      "execution_count": null,
      "metadata": {
        "id": "zjCBk1BI8DC1"
      },
      "outputs": [],
      "source": [
        "day_df = pd.read_csv(\"data/day.csv\")\n",
        "day_df.head()"
      ]
    },
    {
      "cell_type": "code",
      "execution_count": null,
      "metadata": {
        "id": "u06MF-vTThCx"
      },
      "outputs": [],
      "source": [
        "data['day'].head()"
      ]
    },
    {
      "cell_type": "markdown",
      "metadata": {
        "id": "RmiwnlPgThC2"
      },
      "source": [
        "menampilkan informasi 5 data teratas dari dataset **day**\n",
        "\n",
        "---"
      ]
    },
    {
      "cell_type": "code",
      "execution_count": null,
      "metadata": {
        "id": "j0VRY2L_ThC4"
      },
      "outputs": [],
      "source": [
        "data['hour'].head()"
      ]
    },
    {
      "cell_type": "markdown",
      "metadata": {
        "id": "p3eJU_yiThC6"
      },
      "source": [
        "menampilkan informasi 5 data teratas dari dataset **hour**\n",
        "\n",
        "---"
      ]
    },
    {
      "cell_type": "markdown",
      "metadata": {
        "id": "MMi6xGaDkbCi"
      },
      "source": [
        "**Insight:**\n",
        "- Bisa kita lihat bahwasanya dengan *.head()* akan menampilkan 5 data teratas\n",
        "- Terdapat beberapa colomn seperti *dteday, season, casual, registered*, dsb. yang bisa kita gunakan untuk menganalisis selanjutnya\n",
        "\n",
        "---"
      ]
    },
    {
      "cell_type": "markdown",
      "metadata": {
        "id": "FHSiqaZp8DC1"
      },
      "source": [
        "### 1.2 Assessing Data"
      ]
    },
    {
      "cell_type": "markdown",
      "metadata": {
        "id": "ax-3tEjc9Cj1"
      },
      "source": [
        "- 1.2.1 Memeriksa semua tipe data"
      ]
    },
    {
      "cell_type": "code",
      "execution_count": null,
      "metadata": {
        "id": "3U9SNylbThC-"
      },
      "outputs": [],
      "source": [
        "for df_name, df in data.items():\n",
        "    print(f\"\\n{df_name} Information:\")\n",
        "    print(data[df_name].info())"
      ]
    },
    {
      "cell_type": "markdown",
      "metadata": {
        "id": "jS1fTjIOThC_"
      },
      "source": [
        "Semua nilai telah terisi lengkap, tidak terdapat nilai kosong (*null value*) pada tabel **day** maupun **hour**\n",
        "\n",
        "---"
      ]
    },
    {
      "cell_type": "markdown",
      "metadata": {
        "id": "s9XHmI0JThDA"
      },
      "source": [
        "- 1.2.2 Memeriksa data duplikat"
      ]
    },
    {
      "cell_type": "code",
      "execution_count": null,
      "metadata": {
        "id": "j6e9WOatThDB"
      },
      "outputs": [],
      "source": [
        "duplicate_counts = {}\n",
        "total_sample_counts = {}\n",
        "\n",
        "for df_name, df in data.items():\n",
        "    duplicate_counts[df_name] = df.duplicated().sum()\n",
        "    total_sample_counts[df_name] = len(df)\n",
        "\n",
        "duplicate_counts_df = pd.DataFrame.from_dict(duplicate_counts, orient='index', columns=['Jumlah Duplikat'])\n",
        "total_sample_counts_df = pd.DataFrame.from_dict(total_sample_counts, orient='index', columns=['Total Jumlah Sampel'])\n",
        "\n",
        "pd.concat([total_sample_counts_df, duplicate_counts_df], axis=1)"
      ]
    },
    {
      "cell_type": "markdown",
      "metadata": {
        "id": "vS7WiBatThDC"
      },
      "source": [
        "Kedua datasetnya tidak ada yang duplikat\n",
        "\n",
        "---"
      ]
    },
    {
      "cell_type": "markdown",
      "metadata": {
        "id": "mQMprs8QThDE"
      },
      "source": [
        "- 1.2.3 Memeriksa Nilai yang Hilang"
      ]
    },
    {
      "cell_type": "code",
      "execution_count": null,
      "metadata": {
        "id": "eXakD2p9ThDF"
      },
      "outputs": [],
      "source": [
        "null_counts = {}\n",
        "\n",
        "for df_name, df in data.items():\n",
        "    null_counts[df_name] = df.isna().sum()\n",
        "    print(df_name, '\\n', null_counts[df_name], '\\n')"
      ]
    },
    {
      "cell_type": "markdown",
      "metadata": {
        "id": "2gPwfXiuThDJ"
      },
      "source": [
        "Tidak ada nilai yang hilang *(missing value)* di kedua dataset\n",
        "\n",
        "---"
      ]
    },
    {
      "cell_type": "code",
      "execution_count": null,
      "metadata": {
        "id": "tgEIe4nbThDK"
      },
      "outputs": [],
      "source": [
        "day.describe()"
      ]
    },
    {
      "cell_type": "markdown",
      "metadata": {
        "id": "n0jb38DAThDL"
      },
      "source": [
        "Ini adalah parameter statistik dari kolom numerik yang terdapat didalam data **day**\n",
        "\n",
        "---"
      ]
    },
    {
      "cell_type": "code",
      "execution_count": null,
      "metadata": {
        "id": "8jUQJXe5ThDN"
      },
      "outputs": [],
      "source": [
        "hour.describe()"
      ]
    },
    {
      "cell_type": "markdown",
      "metadata": {
        "id": "mPhUsJBpThDO"
      },
      "source": [
        "Ini adalah parameter statistik dari kolom numerik yang terdapat didalam data **hour**\n",
        "\n",
        "---"
      ]
    },
    {
      "cell_type": "markdown",
      "metadata": {
        "id": "7dtxhAPrkhPL"
      },
      "source": [
        "**Insight:**\n",
        "- Memeriksa dan menelusuri data yang hilang maupun kosong terhadap dataset **day** dan **hour**\n",
        "- Semua data terisi dan tidak hilang\n",
        "- Tidak memiliki data yang terduplikasi\n",
        "\n",
        "---"
      ]
    },
    {
      "cell_type": "markdown",
      "metadata": {
        "id": "EhN5R4hr8DC1"
      },
      "source": [
        "### 1.3 Cleaning Data\n",
        "\n",
        "saya memeriksa datanya terlebih dahulu;"
      ]
    },
    {
      "cell_type": "code",
      "execution_count": null,
      "metadata": {
        "id": "dmS6HlkKThDR"
      },
      "outputs": [],
      "source": [
        "print(day.isnull().sum())"
      ]
    },
    {
      "cell_type": "markdown",
      "metadata": {
        "id": "Zo2Ml1KAThDS"
      },
      "source": [
        "Disini saya memeriksa kembali agar tabel **day** tidak ada nilai yang kosong, maka dari itu tidak perlu ada nilai yang harus diisi\n",
        "\n",
        "---"
      ]
    },
    {
      "cell_type": "code",
      "execution_count": null,
      "metadata": {
        "id": "lDJA7kA7ThDT"
      },
      "outputs": [],
      "source": [
        "print(hour.isnull().sum())"
      ]
    },
    {
      "cell_type": "markdown",
      "metadata": {
        "id": "6iVwEIamThDc"
      },
      "source": [
        "Disini saya memeriksa kembali agar tabel **hour**  tidak ada nilai yang kosong, maka dari itu tidak perlu ada nilai yang harus diisi\n",
        "\n",
        "---"
      ]
    },
    {
      "cell_type": "markdown",
      "metadata": {
        "id": "ri3Io9-uThDd"
      },
      "source": [
        "1.3.1 Ubah Tipe Data"
      ]
    },
    {
      "cell_type": "code",
      "execution_count": null,
      "metadata": {
        "id": "UGUR2b_-ThDd"
      },
      "outputs": [],
      "source": [
        "for df_name, df in data.items():\n",
        "    print(f'\\n=== Informasi untuk DataFrame {df_name} ===')\n",
        "    print(df.info())"
      ]
    },
    {
      "cell_type": "markdown",
      "metadata": {
        "id": "jGqHslCNThDf"
      },
      "source": [
        "Menampilkan kolom dan tipe data apa saja yang terisi di dalam data **day** dan **hour**\n",
        "\n",
        "---"
      ]
    },
    {
      "cell_type": "code",
      "execution_count": null,
      "metadata": {
        "id": "w9GLhcfaThDg"
      },
      "outputs": [],
      "source": [
        "columns = ['season', 'mnth', 'holiday', 'weekday', 'weathersit']\n",
        "\n",
        "for column in columns:\n",
        "    day[column] =  day[column].astype(\"category\")\n",
        "    hour[column] =  hour[column].astype(\"category\")"
      ]
    },
    {
      "cell_type": "markdown",
      "metadata": {
        "id": "Cu2ldIaxThDg"
      },
      "source": [
        "Yang saya ubah disini adalah kolom *season, mnth, holiday, weekday, weathersit* dari *int* menjadi *category* karena kolom ini akan saya gunakan untuk analisis dan menjawab pertanyaan dan memiliki data dengan beberapa varian\n",
        "\n",
        "---"
      ]
    },
    {
      "cell_type": "code",
      "execution_count": null,
      "metadata": {
        "id": "K6DdpQiuThDi"
      },
      "outputs": [],
      "source": [
        "day.describe(include=['category'])"
      ]
    },
    {
      "cell_type": "markdown",
      "metadata": {
        "id": "_OWW3VNqThDp"
      },
      "source": [
        "Mendeskripsikan data **day** untuk *category*\n",
        "\n",
        "---"
      ]
    },
    {
      "cell_type": "code",
      "execution_count": null,
      "metadata": {
        "id": "3Axx2i-UThDq"
      },
      "outputs": [],
      "source": [
        "hour.describe(include=['category'])"
      ]
    },
    {
      "cell_type": "markdown",
      "metadata": {
        "id": "9MEL61pAThDr"
      },
      "source": [
        "Mendeskripsikan data **hour** untuk *category*\n",
        "\n",
        "---"
      ]
    },
    {
      "cell_type": "code",
      "execution_count": null,
      "metadata": {
        "id": "JY7958l7ThDs"
      },
      "outputs": [],
      "source": [
        "day['dteday'] = pd.to_datetime(day['dteday'])\n",
        "hour['dteday'] = pd.to_datetime(hour['dteday'])"
      ]
    },
    {
      "cell_type": "code",
      "execution_count": null,
      "metadata": {
        "id": "zw-un_Q3ThDt"
      },
      "outputs": [],
      "source": [
        "print(\"Tipe data kolom 'dteday' di DataFrame day :\", day['dteday'].dtype)\n",
        "print(\"Tipe data kolom 'dteday' di DataFrame hour :\", hour['dteday'].dtype)"
      ]
    },
    {
      "cell_type": "markdown",
      "metadata": {
        "id": "HG1Bs6DnThDu"
      },
      "source": [
        "Saya merubah kolom dteday yang tadinya *object* menjadi *datetime*\n",
        "\n",
        "---"
      ]
    },
    {
      "cell_type": "code",
      "execution_count": null,
      "metadata": {
        "id": "4YiWqnjiThDv"
      },
      "outputs": [],
      "source": [
        "print(day['dteday'].describe())\n",
        "print(hour['dteday'].describe())"
      ]
    },
    {
      "cell_type": "markdown",
      "metadata": {
        "id": "dmZ4eiS5ThDw"
      },
      "source": [
        "Ini adalah hasil perubahan *object* menjadi *datetime* supaya lebih mudah digunakan untuk manipulasi waktu (seperti ekstraksi hari, bulan, tahun, dll.).\n",
        "\n",
        "---"
      ]
    },
    {
      "cell_type": "code",
      "execution_count": null,
      "metadata": {
        "id": "GMvgUnVcThDx"
      },
      "outputs": [],
      "source": [
        "for df_name, df in data.items():\n",
        "    print(f'\\n~~~ Informasi untuk DataFrame {df_name} ~~~')\n",
        "    print(df.info())"
      ]
    },
    {
      "cell_type": "markdown",
      "metadata": {
        "id": "vC5xBV_sThDy"
      },
      "source": [
        "Ini adalah Informasi terkini terkait dataframe apa saja yang ada di data saya\n",
        "\n",
        "---"
      ]
    },
    {
      "cell_type": "markdown",
      "metadata": {
        "id": "9nlMt8wGThDz"
      },
      "source": [
        "1.3.2 Rename"
      ]
    },
    {
      "cell_type": "markdown",
      "metadata": {
        "id": "I6ehmT1rThD0"
      },
      "source": [
        "Saya akan merubah nama pada kolom di data **day** dan **hour** agar lebih mudah untuk dibaca"
      ]
    },
    {
      "cell_type": "code",
      "execution_count": null,
      "metadata": {
        "id": "cW3vrxqfThD0"
      },
      "outputs": [],
      "source": [
        "day.rename(columns={'yr':'year','mnth':'month','weekday':'one_of_week', 'weathersit':'weather_situation', 'windspeed':'wind_speed','cnt':'count_cr','hum':'humidity'},inplace=True)"
      ]
    },
    {
      "cell_type": "code",
      "execution_count": null,
      "metadata": {
        "id": "aTcSv9qDThD1"
      },
      "outputs": [],
      "source": [
        "hour.rename(columns={'yr':'year','hr':'hours','mnth':'month','weekday':'one_of_week', 'weathersit':'weather_situation','windspeed':'wind_speed','cnt':'count_cr','hum':'humidity'},inplace=True)"
      ]
    },
    {
      "cell_type": "code",
      "execution_count": null,
      "metadata": {
        "id": "g54luWMZThD4"
      },
      "outputs": [],
      "source": [
        "for df_name, df in data.items():\n",
        "    print(f'\\n=== Kolom-kolom dalam {df_name} ===')\n",
        "    print(df.columns.tolist())"
      ]
    },
    {
      "cell_type": "markdown",
      "metadata": {
        "id": "w2rURGH4ThD5"
      },
      "source": [
        "Ini adalah hasil dari perubahan nama kolom yang saya implementasikan, agar lebih mudah untuk pembacaan dan pengelolaan\n",
        "\n",
        "---"
      ]
    },
    {
      "cell_type": "code",
      "execution_count": null,
      "metadata": {
        "id": "J29BVsV_ThD6"
      },
      "outputs": [],
      "source": [
        "categorical_columns = ['season', 'month', 'weather_situation', 'one_of_week', 'year']\n",
        "\n",
        "mappings = {\n",
        "    'season': {1: 'Musim Semi', 2: 'Musim Panas', 3: 'Musim Gugur', 4: 'Musim Dingin'},\n",
        "    'month': {1: 'Januari', 2: 'Febuari', 3: 'Maret', 4: 'April', 5: 'Mei', 6: 'Juni',\n",
        "              7: 'Juli', 8: 'Agustus', 9: 'September', 10: 'Oktober', 11: 'November', 12: 'Desember'},\n",
        "    'weather_situation': {1: 'Cerah', 2: 'Mendung', 3: 'Hujan Ringan', 4: 'Hujan Lebat'},\n",
        "    'one_of_week': {0: 'Minggu', 1: 'Senin', 2: 'Selasa', 3: 'Rabu',\n",
        "                    4: 'Kamis', 5: 'Jumat', 6: 'Sabtu'},\n",
        "    'year': {0: '2011', 1: '2012'}\n",
        "}\n",
        "\n",
        "data = {'day': day, 'hour': hour}\n",
        "\n",
        "for name, df in data.items():\n",
        "    # Aplikasikan mapping untuk setiap kolom\n",
        "    for col, mapping in mappings.items():\n",
        "        if col in df.columns:\n",
        "            # Gunakan map untuk mengganti nilai dengan deskripsi\n",
        "            df[col] = df[col].map(mapping)\n",
        "\n",
        "    if 'humidity' in df.columns:\n",
        "        df['humidity'] = df['humidity'] * 100"
      ]
    },
    {
      "cell_type": "markdown",
      "metadata": {
        "id": "wq1dDfzpThD7"
      },
      "source": [
        "Mengganti penamaan nilai menjadi label deskriptif agar lebih dipahami sesuai mapping yang saya tentukan, lalu mengubah juga skala kolom humidity menjadi persentase agar data lebih mudah dipahami.\n",
        "\n",
        "---"
      ]
    },
    {
      "cell_type": "code",
      "execution_count": null,
      "metadata": {
        "id": "4HY-1fW3ThD8"
      },
      "outputs": [],
      "source": [
        "day"
      ]
    },
    {
      "cell_type": "markdown",
      "metadata": {
        "id": "gn7oX_rpThD-"
      },
      "source": [
        "Menampilkan data **day**\n",
        "\n",
        "---"
      ]
    },
    {
      "cell_type": "code",
      "execution_count": null,
      "metadata": {
        "id": "K7qveDekThD_"
      },
      "outputs": [],
      "source": [
        "hour"
      ]
    },
    {
      "cell_type": "markdown",
      "metadata": {
        "id": "_x45GtAdThEA"
      },
      "source": [
        "Menampilkan data **hour**\n",
        "\n",
        "---"
      ]
    },
    {
      "cell_type": "code",
      "execution_count": null,
      "metadata": {
        "id": "PlbH-ZaSThEB"
      },
      "outputs": [],
      "source": [
        "one_of_week = [\"Senin\", \"Selasa\", \"Rabu\", \"Kamis\", \"Jumat\", \"Sabtu\", \"Minggu\"]\n",
        "def get_category_days(one_of_week):\n",
        "    if one_of_week in [\"Sabtu\", \"Minggu\"]:\n",
        "        return \"weekend\"\n",
        "    else:\n",
        "        return \"weekdays\"\n",
        "\n",
        "hour[\"category_days\"] = hour[\"one_of_week\"].apply(get_category_days)\n",
        "day[\"category_days\"] = day[\"one_of_week\"].apply(get_category_days)"
      ]
    },
    {
      "cell_type": "markdown",
      "metadata": {
        "id": "VMpXXc4cThEB"
      },
      "source": [
        "Saya membuat kolom *category_days* untuk mengklasifikasikan setiap hari dalam kolom one_of_week sebagai *weekdays* atau *weekend* , untuk memudahkan penganalisisan terkait perbandingan di *weekdays* dan *weekend*\n",
        "\n",
        "---"
      ]
    },
    {
      "cell_type": "code",
      "execution_count": null,
      "metadata": {
        "id": "0zVLJilFThEC"
      },
      "outputs": [],
      "source": [
        "week_days_df = pd.DataFrame({\n",
        "    'one_of_week': one_of_week\n",
        "})\n",
        "\n",
        "week_days_df['category_days'] = week_days_df['one_of_week'].apply(get_category_days)\n",
        "\n",
        "print(week_days_df)"
      ]
    },
    {
      "cell_type": "markdown",
      "metadata": {
        "id": "UI6AiI7aThED"
      },
      "source": [
        "Ini adalah output dari pengkategorian *weekdays* dan *weekend*\n",
        "\n",
        "---"
      ]
    },
    {
      "cell_type": "code",
      "execution_count": null,
      "metadata": {
        "id": "tzdKEQGFThEE"
      },
      "outputs": [],
      "source": [
        "def classify_humidity(humidity):\n",
        "    if humidity < 45:\n",
        "        return \"Kering\"\n",
        "    elif humidity >= 45 and humidity < 65:\n",
        "        return \"Ideal\"\n",
        "    else:\n",
        "        return \"Lembab\"\n",
        "\n",
        "hour[\"humidity_category\"] = hour[\"humidity\"].apply(classify_humidity)\n",
        "day[\"humidity_category\"] = day[\"humidity\"].apply(classify_humidity)"
      ]
    },
    {
      "cell_type": "code",
      "execution_count": null,
      "metadata": {
        "id": "Zy5ZX1ZJThEE"
      },
      "outputs": [],
      "source": [
        "print(hour[['humidity', 'humidity_category']].head())\n",
        "print(day[['humidity', 'humidity_category']].head())"
      ]
    },
    {
      "cell_type": "markdown",
      "metadata": {
        "id": "lf1YWebCThEF"
      },
      "source": [
        "Disini saya menambahkan kolom baru yaitu *humidity_category* pada data **day** dan **hour** untuk mengklasifikasikan nilai kelembaban ke dalam tiga kategori: *Terlalu kering*, *Ideal*, dan *Terlalu Lembab*, berdasarkan nilai kelembaban pada kolom humidity\n",
        "\n",
        "---"
      ]
    },
    {
      "cell_type": "markdown",
      "metadata": {
        "id": "Q_5ejIqckiSP"
      },
      "source": [
        "**Insight:**\n",
        "- Merubah tipe data pada kolom *dteday* menjadi *datetime*\n",
        "- Me-Rename kolom *yr : year, mnth : month, weekday : one_of_week, weathersit : weather_situation, windspeed : wind_speed, cnt : count_cr, hum : humidity* pada data **day** agar lebih mudah untuk dibaca\n",
        "- Merubah tipe data *int* pada *season, month, holiday, weekday, workingday, weathersit* menjadi tipe data *category*\n",
        "- Membuat kolom baru *category_days* (berisikan informasi *weekdays* dan *weekend*) dan *humidity_category* (berisikan nilai kelembapan *Terlalu Lembab, Ideal,* dan *Terlalu Kering*)"
      ]
    },
    {
      "cell_type": "markdown",
      "metadata": {
        "id": "gp-Y6wU38DC1"
      },
      "source": [
        "## **2. Exploratory Data Analysis (EDA)**"
      ]
    },
    {
      "cell_type": "markdown",
      "metadata": {
        "id": "MW7WF2kr8DC1"
      },
      "source": [
        "### 2.1 Explore data hour"
      ]
    },
    {
      "cell_type": "code",
      "execution_count": null,
      "metadata": {
        "id": "7bwrA3UpThEN"
      },
      "outputs": [],
      "source": [
        "data[\"hour\"].sample(5)"
      ]
    },
    {
      "cell_type": "markdown",
      "metadata": {
        "id": "w9SHcjqAThEP"
      },
      "source": [
        "Saya menampilkan sample 5 data **hour** untuk memudahkan saya dalam membaca kolom\n",
        "\n",
        "\n",
        "---"
      ]
    },
    {
      "cell_type": "code",
      "execution_count": null,
      "metadata": {
        "id": "hwFlJnKAThEP"
      },
      "outputs": [],
      "source": [
        "result = hour.groupby(by=\"hours\", observed=True).agg({\n",
        "    \"count_cr\": \"sum\"\n",
        "}).sort_values(by=\"count_cr\", ascending=False)\n",
        "\n",
        "print(result)"
      ]
    },
    {
      "cell_type": "markdown",
      "metadata": {
        "id": "3NmFZJmhThEQ"
      },
      "source": [
        "Disini saya men-sort data **hour**, dimana disini saya menghitung total penyewaan sepeda dalam rentang pukul 00.00 hingga 23.59 dari kolom *hours*, dan yang terbanyak yaitu pukul 17.00 dan tersedikit yaitu pukul 04.00\n",
        "\n",
        "---"
      ]
    },
    {
      "cell_type": "code",
      "execution_count": null,
      "metadata": {
        "id": "vNRbWh27ThER"
      },
      "outputs": [],
      "source": [
        "result = hour.groupby(by=\"one_of_week\", observed=True).agg({\n",
        "    \"count_cr\": \"sum\"\n",
        "}).sort_values(by=\"count_cr\", ascending=False)\n",
        "\n",
        "print(result)"
      ]
    },
    {
      "cell_type": "markdown",
      "metadata": {
        "id": "zqfmIRJtThES"
      },
      "source": [
        "Disini saya men-sort data **hour**, dimana disini saya menghitung total penyewaan *one_of_week* atau hari mana yang paling banyak penyewaan sepeda dan hari mana yang paling sedikit penyewaan sepeda\n",
        "\n",
        "---"
      ]
    },
    {
      "cell_type": "markdown",
      "metadata": {
        "id": "iRnyPDoCThET"
      },
      "source": [
        "### 2.2 Explore data day"
      ]
    },
    {
      "cell_type": "code",
      "execution_count": null,
      "metadata": {
        "id": "GcuYyYCdThEU"
      },
      "outputs": [],
      "source": [
        "data[\"day\"].sample(5)"
      ]
    },
    {
      "cell_type": "markdown",
      "metadata": {
        "id": "nR6GVjktThEW"
      },
      "source": [
        "Saya menampilkan sample 5 data **day** untuk memudahkan saya dalam membaca kolom\n",
        "\n",
        "\n",
        "---"
      ]
    },
    {
      "cell_type": "code",
      "execution_count": null,
      "metadata": {
        "id": "uz4_HcPEThEa"
      },
      "outputs": [],
      "source": [
        "result = day.groupby(by=\"season\", observed=True).agg({\n",
        "    \"count_cr\": \"sum\"\n",
        "}).sort_values(by=\"count_cr\", ascending=False)\n",
        "\n",
        "print(result)"
      ]
    },
    {
      "cell_type": "markdown",
      "metadata": {
        "id": "Vs55lXkHThEe"
      },
      "source": [
        "Disini saya men-sort data **day**, dimana disini saya menghitung total penyewaan disetiap musimnya *season*, dan mengurutkannya dari musim paling banyak penyewaan yaitu musim gugur hingga musim paling sedikit penyewaan yaitu musim semi\n",
        "\n",
        "\n",
        "---"
      ]
    },
    {
      "cell_type": "code",
      "execution_count": null,
      "metadata": {
        "id": "GnkgDFZaThEf"
      },
      "outputs": [],
      "source": [
        "result = hour.groupby(\"year\").agg({\n",
        "    \"registered\": \"sum\",\n",
        "    \"casual\": \"sum\"\n",
        "})\n",
        "\n",
        "print(result)"
      ]
    },
    {
      "cell_type": "markdown",
      "metadata": {
        "id": "h9Ltxc2HThEg"
      },
      "source": [
        "Disini saya menelusuri bahwasanya perbandingan seseorang peminjam yang teregistrasi menjadi member dan yang belum menjadi member *casual*, terpaku cukup jauh gap-nya, dimana bisa kita lihat di tahun 2011 member yang teregistrasi yaitu 995,851 dan yang belum menjadi member 247,252 orang\n",
        "\n",
        "---"
      ]
    },
    {
      "cell_type": "code",
      "execution_count": null,
      "metadata": {
        "id": "c_LGKKLYThEh"
      },
      "outputs": [],
      "source": [
        "result = day.groupby(by=\"month\", observed=True).agg({\n",
        "    \"count_cr\": \"sum\"\n",
        "}).sort_values(by=\"count_cr\", ascending=False)\n",
        "\n",
        "print(result)"
      ]
    },
    {
      "cell_type": "markdown",
      "metadata": {
        "id": "th_Lzl2Fkj9O"
      },
      "source": [
        "**Insight:**\n",
        "- Menghitung jumlah jam dalam penyewaan sepedah terbanyak dan tersedikit pada pukul berapa dari data **hour**\n",
        "- Menghitung jumlah total hari apa yang paling banyak penyewaan sepedanya dari data **hour**\n",
        "- Menghitung jumlah total musim apa yang paling banyak penyewaan sepedanya dari data **day**\n",
        "- Menghitung jumlah total member mana yang teregistrasi dan yang belum atau *casual* pada tahun 2011 dan 2012"
      ]
    },
    {
      "cell_type": "markdown",
      "metadata": {
        "id": "zsyZjqak8DC2"
      },
      "source": [
        "## **3. Visualization & Explanatory Analysis**"
      ]
    },
    {
      "cell_type": "markdown",
      "metadata": {
        "id": "HZxOiQ6n8DC2"
      },
      "source": [
        "### Pertanyaan 1: Bagaimana faktor cuaca (weathersit) memengaruhi jumlah penyewaan sepeda harian?"
      ]
    },
    {
      "cell_type": "code",
      "execution_count": null,
      "metadata": {
        "id": "rudj3HmzThEl"
      },
      "outputs": [],
      "source": [
        "# Pastikan `grouped_day` sudah didefinisikan sebelumnya\n",
        "grouped_day = day.groupby(by=\"season\", observed=True).agg({\n",
        "    \"count_cr\": \"sum\"\n",
        "}).sort_values(by=\"count_cr\", ascending=False)"
      ]
    },
    {
      "cell_type": "code",
      "execution_count": null,
      "metadata": {
        "id": "0nJP_x-DThEm"
      },
      "outputs": [],
      "source": [
        "grouped_day.head()"
      ]
    },
    {
      "cell_type": "code",
      "execution_count": null,
      "metadata": {
        "id": "GH9zcy2FThEq"
      },
      "outputs": [],
      "source": [
        "# Define a custom color palette\n",
        "colors = sns.color_palette([\"#66BB6A\", \"#FFEB3B\", \"#FF7043\", \"#80D6FF\"], n_colors=len(grouped_day))\n",
        "\n",
        "# Visualisasi dengan data yang sudah dikelompokkan\n",
        "fig, ax = plt.subplots(figsize=(35, 10))\n",
        "\n",
        "sns.barplot(\n",
        "    y=grouped_day.index,\n",
        "    x=grouped_day[\"count_cr\"],\n",
        "    palette=colors,\n",
        "    hue=grouped_day.index,\n",
        "    ax=ax,\n",
        "    order=grouped_day.index  # Menambahkan urutan berdasarkan index\n",
        ")\n",
        "\n",
        "ax.set_title(\"Bar Chart Antar-Musim\", loc=\"center\", fontsize=50)\n",
        "ax.set_ylabel('season', fontsize=30)\n",
        "ax.set_xlabel('count_cr', fontsize=30)\n",
        "ax.tick_params(axis='x', labelsize=30)\n",
        "ax.tick_params(axis='y', labelsize=30)\n",
        "\n",
        "plt.show()"
      ]
    },
    {
      "cell_type": "markdown",
      "metadata": {
        "id": "z2DIr9oDThEr"
      },
      "source": [
        "Dari visualisasi ini menunjukkan bahwa musim dengan penyewaan terbanyak adalah *Musim Gugur* dengan jumlah 1,061,129, sedangkan yang paling sedikit atau jarang adanya penyewaan sepeda adalah *Musim Semi* dengan Jumlah 471,348\n",
        "\n",
        "---"
      ]
    },
    {
      "cell_type": "markdown",
      "metadata": {
        "id": "DgHI7CiU8DC2"
      },
      "source": [
        "### Pertanyaan 2: Apakah ada perbedaan jumlah penyewaan sepeda antara hari kerja (workingday) dan akhir pekan/libur?"
      ]
    },
    {
      "cell_type": "code",
      "execution_count": null,
      "metadata": {
        "id": "3mbxCxGhThEt"
      },
      "outputs": [],
      "source": [
        "sum_order_items_df = hour.groupby(\"hours\").count_cr.sum().sort_values(ascending=False).reset_index()"
      ]
    },
    {
      "cell_type": "code",
      "execution_count": null,
      "metadata": {
        "id": "hUpFXE90ThEu"
      },
      "outputs": [],
      "source": [
        "hour_count = sum_order_items_df.groupby('hours')['count_cr'].sum().reset_index()"
      ]
    },
    {
      "cell_type": "code",
      "execution_count": null,
      "metadata": {
        "id": "9gxLEK3SThEv"
      },
      "outputs": [],
      "source": [
        "hour_count"
      ]
    },
    {
      "cell_type": "code",
      "execution_count": null,
      "metadata": {
        "id": "Go0lCsvO8DC2"
      },
      "outputs": [],
      "source": [
        "# Mengurutkan berdasarkan penyewa terbanyak dan sedikit\n",
        "top_rentals = hour_count.sort_values(by=\"count_cr\", ascending=False).head(5)\n",
        "least_rentals = hour_count.sort_values(by=\"count_cr\", ascending=True).head(5)\n",
        "\n",
        "# Mengatur warna untuk top dan least rentals\n",
        "top_colors = [\"#D3D3D3\", \"#D3D3D3\", \"#074799\", \"#D3D3D3\", \"#D3D3D3\"]\n",
        "least_colors = [\"#D3D3D3\", \"#D3D3D3\", \"#D3D3D3\", \"#F26B0F\", \"#D3D3D3\"]\n",
        "\n",
        "# Membuat plot dengan dua sub-plot\n",
        "fig, ax = plt.subplots(nrows=1, ncols=2, figsize=(30, 15))\n",
        "\n",
        "# Plot untuk jam dengan penyewa terbanyak\n",
        "sns.barplot(\n",
        "    x=\"hours\",\n",
        "    y=\"count_cr\",\n",
        "    data=top_rentals,\n",
        "    hue=\"hours\",\n",
        "    palette=top_colors,\n",
        "    ax=ax[0]\n",
        ")\n",
        "ax[0].set_ylabel(\"Jumlah Penyewaan Sepeda\", fontsize=30)\n",
        "ax[0].set_xlabel(\"Jam Malam (PM)\", fontsize=30)\n",
        "ax[0].set_title(\"Jam dengan Penyewa Sepeda Terbanyak\", loc=\"center\", fontsize=30)\n",
        "ax[0].tick_params(axis='x', labelsize=30)\n",
        "ax[0].tick_params(axis='y', labelsize=30)\n",
        "ax[0].legend(title=\"Hour\", title_fontsize=20, fontsize=15)\n",
        "\n",
        "# Plot untuk jam dengan penyewa paling sedikit\n",
        "sns.barplot(\n",
        "    x=\"hours\",\n",
        "    y=\"count_cr\",\n",
        "    data=least_rentals,\n",
        "    hue=\"hours\",\n",
        "    palette=least_colors,\n",
        "    ax=ax[1]\n",
        ")\n",
        "ax[1].set_ylabel(\"Jumlah Penyewaan Sepeda\", fontsize=30)\n",
        "ax[1].set_xlabel(\"Jam Pagi (AM)\", fontsize=30)\n",
        "ax[1].set_title(\"Jam dengan Penyewa Sepeda Tersedikit\", loc=\"center\", fontsize=30)\n",
        "ax[1].invert_xaxis()  # Invert the x-axis for a better view of AM times\n",
        "ax[1].tick_params(axis='x', labelsize=30)\n",
        "ax[1].tick_params(axis='y', labelsize=30)\n",
        "ax[1].legend(title=\"Hour\", title_fontsize=20, fontsize=15)\n",
        "\n",
        "# Tampilkan plot\n",
        "plt.tight_layout()\n",
        "plt.show()"
      ]
    },
    {
      "cell_type": "markdown",
      "metadata": {
        "id": "jOrCUHFIThEy"
      },
      "source": [
        "Berdasarkan visualisasi yang saya hasilkan ini menunjukkan bahwa penyewaan sepeda itu paling sering digunakan pada waktu pukul 17:00 dengan jumlah 336,860, sedangkan waktu penyewaan paling sedikit adalah pada pukul 04:00 dengan Jumlah 4,428\n",
        "\n",
        "---\n"
      ]
    },
    {
      "cell_type": "markdown",
      "metadata": {
        "id": "VBwDw2LIThEz"
      },
      "source": [
        "### Pertanyaan 3: Bagaimana Perbandingan Jumlah Pengguna Casual vs Pengguna Teregistrasi?"
      ]
    },
    {
      "cell_type": "code",
      "execution_count": null,
      "metadata": {
        "id": "Vtl-AX4SThE0"
      },
      "outputs": [],
      "source": [
        "day['month'] = pd.to_datetime(day['dteday']).dt.month\n",
        "day['month_name'] = day['month'].map(mappings['month'])\n",
        "\n",
        "day['month_name'] = pd.Categorical(day['month_name'], categories=mappings['month'].values(), ordered=True)\n",
        "\n",
        "monthly_revenue = day.groupby('month_name', observed=True)['count_cr'].sum()"
      ]
    },
    {
      "cell_type": "code",
      "execution_count": null,
      "metadata": {
        "id": "4yD0zIuMThE1"
      },
      "outputs": [],
      "source": [
        "monthly_revenue"
      ]
    },
    {
      "cell_type": "code",
      "execution_count": null,
      "metadata": {
        "id": "ZTzz9U5rThE2"
      },
      "outputs": [],
      "source": [
        "colors = ['tab:blue' if month != 'Agustus' else 'red' for month in monthly_revenue.index]\n",
        "\n",
        "# Membuat bar chart dengan ukuran yang lebih proporsional\n",
        "plt.figure(figsize=(12, 6))  # Lebar dan tinggi lebih proporsional untuk Streamlit\n",
        "bars = plt.bar(monthly_revenue.index, monthly_revenue.values, color=colors)\n",
        "\n",
        "# Menambahkan legend untuk warna\n",
        "red_patch = plt.Line2D([0], [0], color='red', lw=4, label='Bulan Sewa Terbanyak')\n",
        "blue_patch = plt.Line2D([0], [0], color='tab:blue', lw=4, label='Bulan Lainnya')\n",
        "plt.legend(handles=[red_patch, blue_patch], loc='upper right', fontsize=8)\n",
        "\n",
        "# Menambahkan judul dan label\n",
        "plt.title('Total Penyewaan Sepeda per Bulan', fontsize=16, pad=20)\n",
        "plt.xlabel('Bulan', fontsize=14, labelpad=10)\n",
        "plt.ylabel('Total Penyewaan', fontsize=14, labelpad=10)\n",
        "plt.xticks(rotation=45, fontsize=12)  # Agar label bulan lebih jelas\n",
        "plt.yticks(fontsize=12)\n",
        "\n",
        "# Menambahkan nilai di atas setiap bar\n",
        "for bar in bars:\n",
        "    height = bar.get_height()\n",
        "    plt.text(\n",
        "        bar.get_x() + bar.get_width() / 2, height + 5,  # Posisi teks\n",
        "        f'{int(height)}',  # Menampilkan nilai dalam format integer\n",
        "        ha='center', va='bottom', fontsize=10\n",
        "    )\n",
        "\n",
        "# Menampilkan grafik\n",
        "plt.tight_layout()\n",
        "plt.show()"
      ]
    },
    {
      "cell_type": "markdown",
      "metadata": {
        "id": "7JhYsCtzThE5"
      },
      "source": [
        "Bisa kita lihat bahwa Penyewaan / Penyewaan sepeda terbanyak dalam kategori bulanan itu adalah bulan Agustus dengan jumlah 351,194"
      ]
    },
    {
      "cell_type": "markdown",
      "metadata": {
        "id": "9y4VUsmcYNZ5"
      },
      "source": [
        "## **4. Analisis Lanjutan**"
      ]
    },
    {
      "cell_type": "markdown",
      "metadata": {
        "id": "73S8KUCAThFO"
      },
      "source": [
        "## 4.1 RFM Analysis"
      ]
    },
    {
      "cell_type": "markdown",
      "metadata": {
        "id": "cUDsh4JCThFP"
      },
      "source": [
        "Dalam Penyewaan Sepeda, kita dapat mengadaptasi konsep RFM untuk:\n",
        "\n",
        "*   Recency: Hari terakhir pengguna meminjam sepeda, semakin kecil *recency* menandakan baru bertransaksi\n",
        "*   Frequency: Jumlah total penyewaan sepeda oleh pengguna.\n",
        "*   Monetary: Total durasi atau jumlah penyewaan sepeda, semakin besar *monetary* menandakan pengeluarannya untuk meminjam sepeda besar"
      ]
    },
    {
      "cell_type": "code",
      "execution_count": null,
      "metadata": {
        "id": "Pq8BUB0dThFR"
      },
      "outputs": [],
      "source": [
        "day['last_purchase_date'] = pd.to_datetime(day['dteday'])\n",
        "current_date = day['last_purchase_date'].max()\n",
        "day['recency'] = (current_date - day['last_purchase_date']).dt.days\n",
        "\n",
        "frequency = day.groupby('instant').size().reset_index(name='frequency')\n",
        "monetary = day.groupby('instant')['count_cr'].sum().reset_index(name='monetary')\n",
        "\n",
        "rfm = pd.merge(frequency, monetary, on='instant')\n",
        "\n",
        "rfm['recency'] = day.groupby('instant')['recency'].min().reset_index(drop=True)\n",
        "\n",
        "rfm['customer_segment'] = rfm.apply(\n",
        "    lambda x: 'Registered' if x['frequency'] > 5 or x['monetary'] > 1000 else 'Casual', axis=1\n",
        ")\n",
        "\n",
        "print(rfm)"
      ]
    },
    {
      "cell_type": "markdown",
      "metadata": {
        "id": "OLjA3MWUThFS"
      },
      "source": [
        "Disini saya menampilkan range dari data 0 hingga 730, bisa kita lihat contohnya transaksi terbaru itu dilakukan oleh data ke 730 atau *recency* = 0 dengan *monetary* sebesar 2729 dan Tipe Pengguna yang sudah teregistrasi\n",
        "\n",
        "---"
      ]
    },
    {
      "cell_type": "code",
      "execution_count": null,
      "metadata": {
        "id": "cY0GrVjwThFT"
      },
      "outputs": [],
      "source": [
        "top_5_monetary = rfm.sort_values(by='monetary', ascending=False).head(5)\n",
        "\n",
        "print(top_5_monetary)"
      ]
    },
    {
      "cell_type": "markdown",
      "metadata": {
        "id": "i7XLm2jbThFU"
      },
      "source": [
        "Disini saya menampilkan *monetary* terbesar atau terbanyak itu adalah sebesar 8714 oleh pengguna dengan *recency* = 107 dan Tipe Pengguna yang sudah Teregistrasi\n",
        "\n",
        "---"
      ]
    },
    {
      "cell_type": "markdown",
      "metadata": {
        "id": "FSpgqPoEThFV"
      },
      "source": [
        "## 4.2 Clusterring"
      ]
    },
    {
      "cell_type": "markdown",
      "metadata": {
        "id": "3yew4Y7oThFW"
      },
      "source": [
        "### 4.2.1 Clusterring Pengguna dari data RFM"
      ]
    },
    {
      "cell_type": "code",
      "execution_count": null,
      "metadata": {
        "id": "tXQnzUicThFX"
      },
      "outputs": [],
      "source": [
        "scaler = StandardScaler()\n",
        "rfm_scaled = scaler.fit_transform(rfm[['recency', 'frequency', 'monetary']])\n",
        "\n",
        "wcss = []\n",
        "for k in range(1, 11):\n",
        "    kmeans = KMeans(n_clusters=k, random_state=42, n_init=10)\n",
        "    kmeans.fit(rfm_scaled)\n",
        "    wcss.append(kmeans.inertia_)\n",
        "\n",
        "plt.figure(figsize=(10, 6))\n",
        "plt.plot(range(1, 11), wcss, marker='o')\n",
        "plt.title('Metode Siku untuk Jumlah Kluster yang Optimal')\n",
        "plt.xlabel('Number of Clusters')\n",
        "plt.ylabel('WCSS')\n",
        "plt.show()\n",
        "\n",
        "optimal_clusters = 3\n",
        "kmeans = KMeans(n_clusters=optimal_clusters, random_state=42, n_init=10)\n",
        "rfm['Cluster'] = kmeans.fit_predict(rfm_scaled)"
      ]
    },
    {
      "cell_type": "code",
      "execution_count": null,
      "metadata": {
        "id": "JMvkqycZThFZ"
      },
      "outputs": [],
      "source": [
        "rfm"
      ]
    },
    {
      "cell_type": "markdown",
      "metadata": {
        "id": "vBcj0oW6ThFe"
      },
      "source": [
        "Cluster di atas dapat diartikan sebagai berikut:\n",
        "\n",
        "\n",
        "*   Cluster 0 = Pengguna yang cenderung melakukan transaksi dengan jumlah *Monetary* yang menengah. Mereka cenderung memiliki *Recency* yang lebih tinggi, menunjukkan bahwa mereka telah melakukan transaksi lebih lama.\n",
        "*   Cluster 1 = Pengguna dengan *Monetary* yang lebih tinggi dan Recency yang lebih rendah. Ini adalah pengguna yang relatif baru dan melakukan transaksi dengan jumlah uang yang besar.\n",
        "*   Cluster 2 = Pengguna dengan *Monetary* yang lebih rendah dan Recency yang lebih tinggi. Mereka adalah pengguna yang sudah lama melakukan transaksi tetapi dengan jumlah yang lebih kecil.\n",
        "\n",
        "---\n"
      ]
    },
    {
      "cell_type": "markdown",
      "metadata": {
        "id": "503BUkI6ThFg"
      },
      "source": [
        "### 4.2.2 Clusterring Manual Group Humidity"
      ]
    },
    {
      "cell_type": "code",
      "execution_count": null,
      "metadata": {
        "id": "Mg1gb0xkThFh"
      },
      "outputs": [],
      "source": [
        "result = hour.groupby(by=\"humidity_category\").agg({\"count_cr\": [\"count\"]})\n",
        "\n",
        "# Sort the results in descending order\n",
        "sorted_result = result.sort_values(by=('count_cr', 'count'), ascending=False)\n",
        "\n",
        "print(sorted_result)"
      ]
    },
    {
      "cell_type": "markdown",
      "metadata": {
        "id": "L9Ey5B1AThFi"
      },
      "source": [
        "BIsa kita lihat dari data **hour** bahwa pengguna akan lebih sering meminjam di keadaan *humidity* Lembab dibandingkan *Humidity* Kering\n",
        "\n",
        "---"
      ]
    },
    {
      "cell_type": "markdown",
      "metadata": {
        "id": "Zbeg401_ThFj"
      },
      "source": [
        "### 4.2.3 Clusterring Manual Group Weather Situation"
      ]
    },
    {
      "cell_type": "code",
      "execution_count": null,
      "metadata": {
        "id": "0Xy7gTUvThFj"
      },
      "outputs": [],
      "source": [
        "count_weather = hour.groupby(by=\"weather_situation\", observed=False).size().sort_values(ascending=False)\n",
        "\n",
        "print(count_weather)"
      ]
    },
    {
      "cell_type": "markdown",
      "metadata": {
        "id": "aE1g5UwIThFk"
      },
      "source": [
        "Bisa kita lihat dari data **hour** bahwa pengguna penyewaan sepedah lebih cenderung meminjam sepeda ketika cuacanya itu *Cerah* dengan 11413, dan ada juga pengguna yang meminjam ketika *Hujan Lebat* = 3\n",
        "\n",
        "\n",
        "---"
      ]
    },
    {
      "cell_type": "markdown",
      "metadata": {
        "id": "_WeHlCeX8DC2"
      },
      "source": [
        "## Conclusion"
      ]
    },
    {
      "cell_type": "markdown",
      "metadata": {
        "id": "ZTcyR48Y8DC2"
      },
      "source": [
        "- Conclution Pertanyaan 1 : Bagaimana faktor cuaca (weathersit) memengaruhi jumlah penyewaan sepeda harian?\n",
        "- Conclution Pertanyaan 2 : Apakah ada perbedaan jumlah penyewaan sepeda antara hari kerja (workingday) dan akhir pekan/libur?\n",
        "- Conclution Pertanyaan 3 : Berapa banyak Total Penyewaan Setiap Disetiap Bulannya?\n",
        "\n",
        "- Pertanyaan 1 : Berdasarkan visualisasi yang saya berikan itu sudah menjawab pertanyaan, dimana saya menampilkan penyewaan antar musim dan memplotkannya dalam kategori 4 musim yang dimana *Musim Gugur* adalah musim yang paling sering untuk orang menyewa sepeda. Hal ini bisa didasarkan oleh cuacanya yang sejuk dan nyaman, dan pemandangan alamnya yang indah nan menawan.\n",
        "- Pertanyaan 2 : Berdasarkan visualisasi yang saya berikan itu sudah sangat menjawab pertanyaan, dimana saya menampilkan penyewaan dalam range terbanyak dan tersedikit, yang dimana pada pukul 17:00 adalah pukul terbanyak orang menyewa sepeda dan pada pukul 04:00 adalah paling sedikit orang menyewa sepeda, yang dapat kita simpulkan pada range pukul 01:00 hingga 05:00 adalah waktu Istirahat dan pada pukul 17:00 adalah waktu untuk pulang bekerja.\n",
        "- Pertanyaan 3 : Berdasarkan visualisasi yang saya berikan itu sudah sangat menjawab pertanyaan, dimana saya menampilkan jumlah total penyewaan setiap bulannya dan menentukan juga bulan dengan penyewaan terbanyak yaitu bulan Agustus dengan jumlah penyewaan 351,194\n"
      ]
    },
    {
      "cell_type": "code",
      "execution_count": null,
      "metadata": {
        "id": "ysuf-14ZThFo"
      },
      "outputs": [],
      "source": [
        "day.to_csv('main_data_day.csv', index=False)"
      ]
    },
    {
      "cell_type": "code",
      "execution_count": null,
      "metadata": {
        "id": "J5MGpygcThFp"
      },
      "outputs": [],
      "source": [
        "hour.to_csv('main_data_hour.csv', index=False)"
      ]
    }
  ],
  "metadata": {
    "colab": {
      "provenance": [],
      "collapsed_sections": [
        "eE0raob58DC0",
        "MW7WF2kr8DC1",
        "DgHI7CiU8DC2",
        "VBwDw2LIThEz"
      ]
    },
    "kernelspec": {
      "display_name": "Python 3 (ipykernel)",
      "language": "python",
      "name": "python3"
    },
    "language_info": {
      "codemirror_mode": {
        "name": "ipython",
        "version": 3
      },
      "file_extension": ".py",
      "mimetype": "text/x-python",
      "name": "python",
      "nbconvert_exporter": "python",
      "pygments_lexer": "ipython3",
      "version": "3.12.4"
    },
    "vscode": {
      "interpreter": {
        "hash": "972b3bf27e332e87b5379f2791f6ef9dfc79c71018c370b0d7423235e20fe4d7"
      }
    }
  },
  "nbformat": 4,
  "nbformat_minor": 0
}